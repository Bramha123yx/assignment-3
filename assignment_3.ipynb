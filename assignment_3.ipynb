{
  "nbformat": 4,
  "nbformat_minor": 0,
  "metadata": {
    "colab": {
      "provenance": []
    },
    "kernelspec": {
      "name": "python3",
      "display_name": "Python 3"
    },
    "language_info": {
      "name": "python"
    }
  },
  "cells": [
    {
      "cell_type": "code",
      "execution_count": 1,
      "metadata": {
        "colab": {
          "base_uri": "https://localhost:8080/"
        },
        "id": "uOciBEVsa9mS",
        "outputId": "48540982-2d31-4845-a639-de4f2c954410"
      },
      "outputs": [
        {
          "output_type": "stream",
          "name": "stdout",
          "text": [
            "My name is Alice and I am 30 years old.\n"
          ]
        }
      ],
      "source": [
        "from string import Template\n",
        "\n",
        "# Create a simple string template with placeholders\n",
        "template = Template(\"My name is $name and I am $age years old.\")\n",
        "\n",
        "# Fill in the placeholders with values\n",
        "result = template.substitute(name=\"Alice\", age=30)\n",
        "\n",
        "# Print the resulting string\n",
        "print(result)\n"
      ]
    },
    {
      "cell_type": "code",
      "source": [
        "# In this example, we create a simple string template that contains two placeholders for the name and age values. We then fill in the placeholders using the substitute() method of the Template class and pass in the values as keyword arguments."
      ],
      "metadata": {
        "id": "qQ702KQmbI5g"
      },
      "execution_count": null,
      "outputs": []
    },
    {
      "cell_type": "code",
      "source": [
        "from string import Template\n",
        "\n",
        "# Define a user-defined class\n",
        "class Person:\n",
        "    def __init__(self, name, age):\n",
        "        self.name = name\n",
        "        self.age = age\n",
        "\n",
        "# Create a string template with a placeholder for the person's name\n",
        "template = Template(\"My name is $name and I am $age years old.\")\n",
        "\n",
        "# Create an instance of the Person class\n",
        "person = Person(\"Alice\", 30)\n",
        "\n",
        "# Fill in the placeholder with the person's name and age\n",
        "result = template.substitute(name=person.name, age=person.age)\n",
        "\n",
        "# Print the resulting string\n",
        "print(result)\n"
      ],
      "metadata": {
        "colab": {
          "base_uri": "https://localhost:8080/"
        },
        "id": "81U7XFB1bPg-",
        "outputId": "3a13c0ba-bcc0-4e33-8816-7821d1632f8d"
      },
      "execution_count": 2,
      "outputs": [
        {
          "output_type": "stream",
          "name": "stdout",
          "text": [
            "My name is Alice and I am 30 years old.\n"
          ]
        }
      ]
    },
    {
      "cell_type": "code",
      "source": [
        "# in this example, we define a user-defined class Person with two attributes: name and age. We then create a string template with a placeholder for the person's name and age, and use the substitute() method to fill in the placeholders with the values from an instance of the Person class. This demonstrates how the string template class can be used with any Python object that has attributes or methods that can be used to fill in the placeholders."
      ],
      "metadata": {
        "id": "ubJq0jsXbQyi"
      },
      "execution_count": null,
      "outputs": []
    }
  ]
}